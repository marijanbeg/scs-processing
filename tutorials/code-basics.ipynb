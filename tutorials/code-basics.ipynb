{
 "cells": [
  {
   "cell_type": "markdown",
   "metadata": {},
   "source": [
    "# How to get and run the code?\n",
    "\n",
    "The code can be found in https://github.com/marijanbeg/scs-processing repository. To get it you can either:\n",
    "\n",
    "- Navigate to your user directory and then run\n",
    "```\n",
    "git clone https://github.com/marijanbeg/scs-processing.git\n",
    "```\n",
    "\n",
    "OR\n",
    "\n",
    "- Copy `scs-processing` directory from `usr/Shared` to your user directory.\n",
    "\n",
    "After that, you can navigate to `scs-processing` and run everything from there. In `scs-processing` is `euxfel_scs_tools` directory where all the code lives. Code is not packaged because it will probably be merged to SCS ToolBox. Therefore, when you import (`import euxfel_scs_tools as scs`), this directory must be on the same path as the notebook you are running, unless you add a path (`import sys; sys.path.add('...')`)."
   ]
  }
 ],
 "metadata": {
  "kernelspec": {
   "display_name": "xfel",
   "language": "python",
   "name": "xfel"
  },
  "language_info": {
   "codemirror_mode": {
    "name": "ipython",
    "version": 3
   },
   "file_extension": ".py",
   "mimetype": "text/x-python",
   "name": "python",
   "nbconvert_exporter": "python",
   "pygments_lexer": "ipython3",
   "version": "3.7.3"
  }
 },
 "nbformat": 4,
 "nbformat_minor": 2
}
