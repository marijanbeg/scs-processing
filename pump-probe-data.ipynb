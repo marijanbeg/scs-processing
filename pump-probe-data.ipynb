{
 "cells": [
  {
   "cell_type": "markdown",
   "metadata": {},
   "source": [
    "# Pump-probe data"
   ]
  },
  {
   "cell_type": "code",
   "execution_count": 3,
   "metadata": {},
   "outputs": [],
   "source": [
    "import processing as pr\n",
    "import numpy as np"
   ]
  },
  {
   "cell_type": "markdown",
   "metadata": {},
   "source": [
    "## Processing data"
   ]
  },
  {
   "cell_type": "markdown",
   "metadata": {},
   "source": [
    "### Dark field"
   ]
  },
  {
   "cell_type": "code",
   "execution_count": 18,
   "metadata": {},
   "outputs": [],
   "source": [
    "proposal = 2530\n",
    "run = 100\n",
    "pattern = ['pumped', 'intradark1', 'unpumped', 'intradark2'] * 40\n",
    "dirname = 'processed_runs_xgm'\n",
    "\n",
    "pr.reduction_std(proposal=proposal, run=run, pattern=pattern, dirname=dirname,\n",
    "                 frame_types=None, trains=None, njobs=40)"
   ]
  },
  {
   "cell_type": "markdown",
   "metadata": {},
   "source": [
    "### one helicity \"positive helicity\" 50°"
   ]
  },
  {
   "cell_type": "code",
   "execution_count": 21,
   "metadata": {},
   "outputs": [],
   "source": [
    "proposal = 2530\n",
    "run = 98\n",
    "pattern = ['pumped', 'intradark1', 'unpumped', 'intradark2'] * 40\n",
    "dirname = 'processed_runs_xgm'"
   ]
  },
  {
   "cell_type": "code",
   "execution_count": 22,
   "metadata": {},
   "outputs": [
    {
     "name": "stdout",
     "output_type": "stream",
     "text": [
      "Submitted 16 slurm jobs to the queue.\n"
     ]
    }
   ],
   "source": [
    "pr.reduction_std(proposal=proposal, run=run, pattern=pattern, dirname=dirname,\n",
    "                 frame_types=None, trains=None, njobs=40)"
   ]
  },
  {
   "cell_type": "code",
   "execution_count": 23,
   "metadata": {},
   "outputs": [],
   "source": [
    "proposal = 2530\n",
    "run = 98\n",
    "pattern = ['pumped', 'intradark1', 'unpumped', 'intradark2'] * 40\n",
    "dark_run = 100\n",
    "xgm_threshold = (1e-5, np.inf)\n",
    "dirname = 'processed_runs_xgm'"
   ]
  },
  {
   "cell_type": "code",
   "execution_count": 24,
   "metadata": {},
   "outputs": [
    {
     "name": "stdout",
     "output_type": "stream",
     "text": [
      "Submitted 16 slurm jobs to the queue.\n"
     ]
    }
   ],
   "source": [
    "pr.reduction_norm(proposal=proposal, run=run, pattern=pattern, dirname=dirname,\n",
    "                  dark_run=dark_run, xgm_threshold=xgm_threshold, njobs=40, trains=None,\n",
    "                  frames={'image': 'pumped', 'dark': 'intradark1'},\n",
    "                  dark_run_frames={'image': 'pumped', 'dark': 'intradark1'})"
   ]
  },
  {
   "cell_type": "code",
   "execution_count": 4,
   "metadata": {},
   "outputs": [],
   "source": [
    "pumped_n = pr.concat_module_images(dirname='processed_runs_xgm',\n",
    "                                   run=98,\n",
    "                                   run_type='norm',\n",
    "                                   image_type='pumped_average')"
   ]
  },
  {
   "cell_type": "code",
   "execution_count": 11,
   "metadata": {},
   "outputs": [
    {
     "name": "stdout",
     "output_type": "stream",
     "text": [
      "Submitted 16 slurm jobs to the queue.\n"
     ]
    }
   ],
   "source": [
    "pr.reduction_norm(proposal=proposal, run=run, pattern=pattern, dirname='processed_runs_xgm2',\n",
    "                  dark_run=dark_run, xgm_threshold=xgm_threshold, njobs=40, trains=None,\n",
    "                  frames={'image': 'unpumped', 'dark': 'intradark2'},\n",
    "                  dark_run_frames={'image': 'unpumped', 'dark': 'intradark2'})"
   ]
  },
  {
   "cell_type": "markdown",
   "metadata": {},
   "source": [
    "### other helicity \"negative helicity\" -130°"
   ]
  },
  {
   "cell_type": "code",
   "execution_count": 12,
   "metadata": {},
   "outputs": [],
   "source": [
    "proposal = 2530\n",
    "run = 99\n",
    "pattern = ['pumped', 'intradark1', 'unpumped', 'intradark2'] * 40\n",
    "dirname = 'processed_runs_xgm'"
   ]
  },
  {
   "cell_type": "code",
   "execution_count": 13,
   "metadata": {},
   "outputs": [
    {
     "name": "stdout",
     "output_type": "stream",
     "text": [
      "Submitted 16 slurm jobs to the queue.\n"
     ]
    }
   ],
   "source": [
    "pr.reduction_std(proposal=proposal, run=run, pattern=pattern, dirname=dirname,\n",
    "                 frame_types=None, trains=None, njobs=40)"
   ]
  },
  {
   "cell_type": "code",
   "execution_count": 14,
   "metadata": {},
   "outputs": [],
   "source": [
    "proposal = 2530\n",
    "run = 99\n",
    "pattern = ['pumped', 'intradark1', 'unpumped', 'intradark2'] * 40\n",
    "dark_run = 100\n",
    "xgm_threshold = (1e-5, np.inf)\n",
    "dirname = 'processed_runs_xgm'"
   ]
  },
  {
   "cell_type": "code",
   "execution_count": 15,
   "metadata": {},
   "outputs": [
    {
     "name": "stdout",
     "output_type": "stream",
     "text": [
      "Submitted 16 slurm jobs to the queue.\n"
     ]
    }
   ],
   "source": [
    "pr.reduction_norm(proposal=proposal, run=run, pattern=pattern, dirname=dirname,\n",
    "                  dark_run=dark_run, xgm_threshold=xgm_threshold, njobs=40, trains=None,\n",
    "                  frames={'image': 'pumped', 'dark': 'intradark1'},\n",
    "                  dark_run_frames={'image': 'pumped', 'dark': 'intradark1'})"
   ]
  },
  {
   "cell_type": "code",
   "execution_count": 16,
   "metadata": {},
   "outputs": [
    {
     "name": "stdout",
     "output_type": "stream",
     "text": [
      "Submitted 16 slurm jobs to the queue.\n"
     ]
    }
   ],
   "source": [
    "pr.reduction_norm(proposal=proposal, run=run, pattern=pattern, dirname='processed_runs_xgm2',\n",
    "                  dark_run=dark_run, xgm_threshold=xgm_threshold, njobs=40, trains=None,\n",
    "                  frames={'image': 'unpumped', 'dark': 'intradark2'},\n",
    "                  dark_run_frames={'image': 'unpumped', 'dark': 'intradark2'})"
   ]
  },
  {
   "cell_type": "markdown",
   "metadata": {},
   "source": [
    "## import data"
   ]
  },
  {
   "cell_type": "markdown",
   "metadata": {},
   "source": [
    "### one helicity \"positive helicity\" 50°"
   ]
  },
  {
   "cell_type": "code",
   "execution_count": 112,
   "metadata": {},
   "outputs": [],
   "source": [
    "pumped_std_50 = pr.concat_module_images(dirname='processed_runs_xgm',\n",
    "                                      run=98,\n",
    "                                      run_type='std',\n",
    "                                      image_type='pumped_average')"
   ]
  },
  {
   "cell_type": "code",
   "execution_count": 113,
   "metadata": {},
   "outputs": [],
   "source": [
    "intradark1_std_50 = pr.concat_module_images(dirname='processed_runs_xgm',\n",
    "                                      run=98,\n",
    "                                      run_type='std',\n",
    "                                      image_type='intradark1_average')"
   ]
  },
  {
   "cell_type": "code",
   "execution_count": 114,
   "metadata": {},
   "outputs": [],
   "source": [
    "unpumped_std_50 = pr.concat_module_images(dirname='processed_runs_xgm',\n",
    "                                      run=98,\n",
    "                                      run_type='std',\n",
    "                                      image_type='unpumped_average')"
   ]
  },
  {
   "cell_type": "code",
   "execution_count": 115,
   "metadata": {},
   "outputs": [],
   "source": [
    "intradark2_std_50 = pr.concat_module_images(dirname='processed_runs_xgm',\n",
    "                                      run=98,\n",
    "                                      run_type='std',\n",
    "                                      image_type='intradark2_average')"
   ]
  },
  {
   "cell_type": "code",
   "execution_count": 116,
   "metadata": {},
   "outputs": [],
   "source": [
    "pumped_std_130 = pr.concat_module_images(dirname='processed_runs_xgm',\n",
    "                                      run=99,\n",
    "                                      run_type='std',\n",
    "                                      image_type='pumped_average')"
   ]
  },
  {
   "cell_type": "code",
   "execution_count": 117,
   "metadata": {},
   "outputs": [],
   "source": [
    "intradark1_std_130 = pr.concat_module_images(dirname='processed_runs_xgm',\n",
    "                                      run=99,\n",
    "                                      run_type='std',\n",
    "                                      image_type='intradark1_average')"
   ]
  },
  {
   "cell_type": "code",
   "execution_count": 118,
   "metadata": {},
   "outputs": [],
   "source": [
    "unpumped_std_130 = pr.concat_module_images(dirname='processed_runs_xgm',\n",
    "                                      run=99,\n",
    "                                      run_type='std',\n",
    "                                      image_type='unpumped_average')"
   ]
  },
  {
   "cell_type": "code",
   "execution_count": 119,
   "metadata": {},
   "outputs": [],
   "source": [
    "intradark2_std_130 = pr.concat_module_images(dirname='processed_runs_xgm',\n",
    "                                      run=99,\n",
    "                                      run_type='std',\n",
    "                                      image_type='intradark2_average')"
   ]
  },
  {
   "cell_type": "code",
   "execution_count": 120,
   "metadata": {},
   "outputs": [],
   "source": [
    "pumped_dark = pr.concat_module_images(dirname='processed_runs_xgm',\n",
    "                                      run=100,\n",
    "                                      run_type='std',\n",
    "                                      image_type='pumped_average')"
   ]
  },
  {
   "cell_type": "code",
   "execution_count": 121,
   "metadata": {},
   "outputs": [],
   "source": [
    "intradark1_dark = pr.concat_module_images(dirname='processed_runs_xgm',\n",
    "                                      run=100,\n",
    "                                      run_type='std',\n",
    "                                      image_type='intradark1_average')"
   ]
  },
  {
   "cell_type": "code",
   "execution_count": 122,
   "metadata": {},
   "outputs": [],
   "source": [
    "unpumped_dark = pr.concat_module_images(dirname='processed_runs_xgm',\n",
    "                                      run=100,\n",
    "                                      run_type='std',\n",
    "                                      image_type='unpumped_average')"
   ]
  },
  {
   "cell_type": "code",
   "execution_count": 123,
   "metadata": {},
   "outputs": [],
   "source": [
    "intradark2_dark = pr.concat_module_images(dirname='processed_runs_xgm',\n",
    "                                      run=100,\n",
    "                                      run_type='std',\n",
    "                                      image_type='intradark2_average')"
   ]
  },
  {
   "cell_type": "code",
   "execution_count": 124,
   "metadata": {},
   "outputs": [],
   "source": [
    "pumped = np.mean(pumped_std_50, axis=0)\n",
    "intradarks1 = np.mean(intradark1_std_50, axis=0)\n",
    "unpumped = np.mean(unpumped_std_50, axis=0)\n",
    "intradarks2 = np.mean(intradark2_std_50, axis=0)"
   ]
  },
  {
   "cell_type": "code",
   "execution_count": 125,
   "metadata": {},
   "outputs": [],
   "source": [
    "pumped_2 = np.mean(pumped_std_130, axis=0)\n",
    "intradarks1_2 = np.mean(intradark1_std_130, axis=0)\n",
    "unpumped_2 = np.mean(unpumped_std_130, axis=0)\n",
    "intradarks2_2 = np.mean(intradark2_std_130, axis=0)"
   ]
  },
  {
   "cell_type": "code",
   "execution_count": 126,
   "metadata": {},
   "outputs": [],
   "source": [
    "dark_pumped = np.mean(pumped_dark, axis=0)\n",
    "dark_intradarks1 = np.mean(intradark1_dark, axis=0)\n",
    "dark_unpumped = np.mean(unpumped_dark, axis=0)\n",
    "dark_intradarks2 = np.mean(intradark2_dark, axis=0)"
   ]
  },
  {
   "cell_type": "code",
   "execution_count": 129,
   "metadata": {},
   "outputs": [],
   "source": [
    "pumped_n = pr.concat_module_images(dirname='processed_runs_xgm',\n",
    "                                     run=98,\n",
    "                                     run_type='norm',\n",
    "                                     image_type='pumped_average')\n",
    "unpumped_n = pr.concat_module_images(dirname='processed_runs_xgm2',\n",
    "                                     run=98,\n",
    "                                     run_type='norm',\n",
    "                                     image_type='unpumped_average')\n",
    "\n",
    "pumped_2_n = pr.concat_module_images(dirname='processed_runs_xgm',\n",
    "                                     run=99,\n",
    "                                     run_type='norm',\n",
    "                                     image_type='pumped_average')\n",
    "unpumped_2_n = pr.concat_module_images(dirname='processed_runs_xgm2',\n",
    "                                     run=99,\n",
    "                                     run_type='norm',\n",
    "                                     image_type='unpumped_average')\n"
   ]
  }
 ],
 "metadata": {
  "kernelspec": {
   "display_name": "xfel",
   "language": "python",
   "name": "xfel"
  },
  "language_info": {
   "codemirror_mode": {
    "name": "ipython",
    "version": 3
   },
   "file_extension": ".py",
   "mimetype": "text/x-python",
   "name": "python",
   "nbconvert_exporter": "python",
   "pygments_lexer": "ipython3",
   "version": "3.7.3"
  }
 },
 "nbformat": 4,
 "nbformat_minor": 4
}
