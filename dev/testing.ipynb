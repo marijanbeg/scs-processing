{
 "cells": [
  {
   "cell_type": "code",
   "execution_count": 1,
   "metadata": {},
   "outputs": [],
   "source": [
    "import sys\n",
    "sys.path.append('..')\n",
    "\n",
    "import extra_data as ed\n",
    "\n",
    "import h5py\n",
    "import numpy as np\n",
    "import euxfel_scs_tools as scs\n",
    "\n",
    "import matplotlib.pyplot as plt\n",
    "\n",
    "proposal = 2530\n",
    "run = 50\n",
    "module_number = 0\n",
    "pattern = ['image', 'dark'] * 99 + ['endimage']\n",
    "\n",
    "module = scs.Module(proposal=proposal, run=run, module=module_number, pattern=pattern)"
   ]
  },
  {
   "cell_type": "code",
   "execution_count": 3,
   "metadata": {},
   "outputs": [],
   "source": [
    "fs, xgm = module.sum_frame(frame_type='image', trains=range(1), njobs=20)"
   ]
  },
  {
   "cell_type": "code",
   "execution_count": 5,
   "metadata": {},
   "outputs": [
    {
     "data": {
      "text/plain": [
       "4576770"
      ]
     },
     "execution_count": 5,
     "metadata": {},
     "output_type": "execute_result"
    }
   ],
   "source": [
    "fs[0]"
   ]
  },
  {
   "cell_type": "code",
   "execution_count": 4,
   "metadata": {},
   "outputs": [
    {
     "data": {
      "text/plain": [
       "{'image_sum': (array([4576770, 4559404, 4543894, 4554472, 4557535, 4557814, 4562525,\n",
       "         4557007, 4556108, 4549924, 4561139, 4534738, 4543440, 4551544,\n",
       "         4556306, 4560635, 4472972, 4469529, 4471173, 4553223, 4585925,\n",
       "         4539181, 4542162, 4579552, 4592863, 4539059, 4475370, 4477852,\n",
       "         4547816, 4547542, 4537551, 4542026, 4589793, 4584849, 4577406,\n",
       "         4471961, 4480215, 4551265, 4545444, 4470748, 4536905, 4590879,\n",
       "         4590372, 4566521, 4542275, 4466600, 4548727, 4542866, 4461901,\n",
       "         4467661, 4544832, 4590028, 4576806, 4536816, 4536860, 4544321,\n",
       "         4541714, 4466251, 4456494, 4476748, 4586301, 4587170, 4534950,\n",
       "         4541234, 4587586, 4538310, 4534210, 4460204, 4469243, 4541348,\n",
       "         4587350, 4534735, 4538535, 4578852, 4586074, 4529653, 4458674,\n",
       "         4471797, 4536034, 4541559, 4525726, 4532278, 4584223, 4573055,\n",
       "         4573738, 4457447, 4462931, 4534832, 4542022, 4458785, 4530264,\n",
       "         4541199, 4581940, 4559524, 4530524, 4460618, 4534336, 4541611,\n",
       "         4451019]),\n",
       "  array([0.3611893 , 0.21102735, 0.16418105, 0.10932032, 0.12728295,\n",
       "         0.34323508, 0.05268247, 0.17955881, 0.1482881 , 0.15679538,\n",
       "         0.10479768, 0.17213398, 0.20029768, 0.16505176, 0.12537146,\n",
       "         0.10603829, 0.15953544, 0.24226932, 0.10646076, 0.21051219,\n",
       "         0.1364854 , 0.19987573, 0.19911063, 0.30401593, 0.15152648,\n",
       "         0.23882616, 0.3144927 , 0.06586015, 0.20253398, 0.07399902,\n",
       "         0.46449196, 0.69011515, 0.23564726, 0.15207738, 0.08472918,\n",
       "         0.08707753, 0.25018954, 0.18970686, 0.3009104 , 0.15887894,\n",
       "         0.27560872, 0.07611728, 0.07596704, 0.2337918 , 0.25822476,\n",
       "         0.15623407, 0.39981395, 0.47413278, 0.14842297, 0.25998452,\n",
       "         0.44093668, 0.06150263, 0.44822812, 0.41468543, 0.06072712,\n",
       "         0.39494222, 0.067072  , 0.20289694, 0.366059  , 0.38107878,\n",
       "         0.08999906, 0.13167666, 0.14927088, 0.37637863, 0.28999233,\n",
       "         0.2524491 , 0.22659555, 0.11588189, 0.34360498, 0.1254607 ,\n",
       "         0.3168723 , 0.19030187, 0.07714418, 0.30514002, 0.35273904,\n",
       "         0.09762423, 0.16409525, 0.16031392, 0.16494961, 0.1674824 ,\n",
       "         0.08240911, 0.27783358, 0.1896305 , 0.40896386, 0.04333323,\n",
       "         0.19353482, 0.19838372, 0.13035077, 0.33162826, 0.17978144,\n",
       "         0.3670438 , 0.12091823, 0.56908786, 0.83504534, 0.26934218,\n",
       "         0.49783486, 0.1878142 , 0.19242907, 0.0967198 ], dtype=float32))}"
      ]
     },
     "execution_count": 4,
     "metadata": {},
     "output_type": "execute_result"
    }
   ],
   "source": [
    "module.process_sum(frame_types=['image'], trains=range(1), dirname='processed_runs_xgm')"
   ]
  },
  {
   "cell_type": "code",
   "execution_count": null,
   "metadata": {},
   "outputs": [],
   "source": [
    "module.process_norm(dark_run=100,\n",
    "                    frames={'image': 'pumped',\n",
    "                            'dark': 'intradark1'},\n",
    "                    dark_run_frames={'image': 'pumped',\n",
    "                                     'dark': 'intradark1'},\n",
    "                    trains=range(100),\n",
    "                    xgm_threshold=(1e-5, np.inf),\n",
    "                    njobs=40,\n",
    "                    dirname='../processed_runs_xgm')"
   ]
  },
  {
   "cell_type": "code",
   "execution_count": null,
   "metadata": {},
   "outputs": [],
   "source": [
    "e = module.sum_frame('image', trains=range(30))\n",
    "f = module.sum_frame('dark', trains=range(30))\n",
    "e.sum() - f.sum()"
   ]
  },
  {
   "cell_type": "code",
   "execution_count": null,
   "metadata": {},
   "outputs": [],
   "source": [
    "b = module.average_frame(frame_type='dark', trains=range(10))\n",
    "b.shape"
   ]
  },
  {
   "cell_type": "code",
   "execution_count": null,
   "metadata": {},
   "outputs": [],
   "source": [
    "c = module.process_std(trains=range(10), dirname='processed_runs_xgm')\n",
    "c.keys()"
   ]
  },
  {
   "cell_type": "code",
   "execution_count": null,
   "metadata": {},
   "outputs": [],
   "source": [
    "d = module.process_norm(dark_run=49, trains=range(10), dirname='processed_runs_xgm')\n",
    "d.shape"
   ]
  },
  {
   "cell_type": "code",
   "execution_count": null,
   "metadata": {},
   "outputs": [],
   "source": [
    "filename = f'processed_runs_xgm/run_{run}/module_{module_number}_std.h5'\n",
    "with h5py.File(filename, 'r') as f:\n",
    "    data1 = f['dark_average'][:]\n",
    "    data2 = f['image_average'][:] \n",
    "np.mean(data2 - data1, axis=0).min()"
   ]
  },
  {
   "cell_type": "code",
   "execution_count": null,
   "metadata": {},
   "outputs": [],
   "source": [
    "data.max()"
   ]
  },
  {
   "cell_type": "code",
   "execution_count": null,
   "metadata": {},
   "outputs": [],
   "source": [
    "import matplotlib.pyplot as plt\n",
    "\n",
    "plt.imshow(data.squeeze())"
   ]
  },
  {
   "cell_type": "code",
   "execution_count": null,
   "metadata": {},
   "outputs": [],
   "source": []
  }
 ],
 "metadata": {
  "kernelspec": {
   "display_name": "xfel",
   "language": "python",
   "name": "xfel"
  },
  "language_info": {
   "codemirror_mode": {
    "name": "ipython",
    "version": 3
   },
   "file_extension": ".py",
   "mimetype": "text/x-python",
   "name": "python",
   "nbconvert_exporter": "python",
   "pygments_lexer": "ipython3",
   "version": "3.7.3"
  }
 },
 "nbformat": 4,
 "nbformat_minor": 2
}
