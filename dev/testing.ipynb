{
 "cells": [
  {
   "cell_type": "code",
   "execution_count": 1,
   "metadata": {},
   "outputs": [],
   "source": [
    "import sys\n",
    "sys.path.append('..')\n",
    "\n",
    "import h5py\n",
    "import numpy as np\n",
    "import processing as pr\n",
    "\n",
    "proposal = 2530\n",
    "run = 99\n",
    "module_number = 0\n",
    "pattern = ['pumped', 'intradark1', 'unpumped', 'intradark2'] * 40\n",
    "\n",
    "module = pr.Module(proposal=proposal, run=run, module=module_number, pattern=pattern)"
   ]
  },
  {
   "cell_type": "code",
   "execution_count": 2,
   "metadata": {},
   "outputs": [
    {
     "data": {
      "text/plain": [
       "array([[[ 3.92776645e+00,  1.26109305e+00,  3.45222676e+00, ...,\n",
       "          3.29944892e+01, -3.93826134e+00,  3.23266793e+00],\n",
       "        [ 1.26346520e+01,  1.27928903e+01, -1.88658432e+01, ...,\n",
       "         -1.06294043e+01,  1.92034008e+01, -2.45845348e+00],\n",
       "        [ 8.44163846e-01,  2.69254317e+00,  2.18029884e+01, ...,\n",
       "         -1.85810236e+01,  7.92558011e+00,  2.25222312e+01],\n",
       "        ...,\n",
       "        [ 1.45046787e+01, -2.21709591e+01,  2.08822042e+01, ...,\n",
       "         -4.00726136e+01,  1.89577953e+01,  3.39085178e+01],\n",
       "        [ 4.43026865e+01,  2.79860704e+01, -6.19028124e+00, ...,\n",
       "          1.39256884e+01, -5.38871643e+00,  1.44253583e+01],\n",
       "        [-1.67094611e+01, -3.50633350e+01, -2.73018856e+01, ...,\n",
       "          3.64942238e+01, -7.78415081e+00, -1.45922052e+00]],\n",
       "\n",
       "       [[ 3.98800475e+00,  8.74580460e-01,  7.58801497e+00, ...,\n",
       "          2.14009903e-01, -7.01920885e-01, -4.63024759e+00],\n",
       "        [ 9.02608973e+00,  5.91168763e+00,  1.18450643e+01, ...,\n",
       "          2.49840107e-01,  3.13821311e+00, -7.65821169e-01],\n",
       "        [ 7.66505768e+00,  9.85507395e+00,  9.51962812e+00, ...,\n",
       "         -3.28110381e+00, -3.95561343e+00, -3.78557712e+00],\n",
       "        ...,\n",
       "        [ 5.26188992e-01,  5.10802530e+00,  5.97435258e+00, ...,\n",
       "          3.05318654e-01,  1.57431390e+00,  3.50571893e+00],\n",
       "        [ 1.84557729e-01,  6.36111360e+00,  1.26018900e+00, ...,\n",
       "          3.41778852e+00,  6.78327420e+00,  4.70125993e+00],\n",
       "        [ 4.22430521e+00,  7.57318201e+00,  4.43813568e+00, ...,\n",
       "          1.92257087e-01,  7.59035437e-01,  8.27556140e-01]],\n",
       "\n",
       "       [[ 3.41802935e+00,  7.33131478e+00,  4.51389898e+00, ...,\n",
       "          4.73812810e+00,  1.84638133e+00, -3.42886742e+00],\n",
       "        [ 7.81499448e+00,  3.32143085e+00,  2.88741973e+00, ...,\n",
       "          7.26330128e+00, -5.72155969e+00,  1.10404692e+00],\n",
       "        [ 2.00337897e+01,  9.30934495e+00,  1.15465041e+01, ...,\n",
       "          4.07987914e+00, -7.93960405e-01, -3.89263672e+00],\n",
       "        ...,\n",
       "        [ 1.33377269e+00, -3.23208675e-01,  2.74342165e+00, ...,\n",
       "          3.82645490e+00, -4.24391917e-01,  5.84366359e+00],\n",
       "        [ 8.67093952e+00,  4.51385662e+00,  3.11797751e-02, ...,\n",
       "          2.40846819e+00, -1.53567062e+00, -5.26437784e+00],\n",
       "        [-2.59833510e+00,  1.82369612e+01,  1.77581236e-01, ...,\n",
       "          6.77289421e+00, -5.62515663e+00,  1.13777276e+00]],\n",
       "\n",
       "       ...,\n",
       "\n",
       "       [[ 2.31832198e+00,  7.44562719e+00,  7.34047043e+00, ...,\n",
       "         -3.58500133e+00, -6.49332792e-01,  7.84181059e-01],\n",
       "        [ 4.73512714e+00,  3.96608554e+00,  6.38757743e+00, ...,\n",
       "         -2.75392352e+00,  1.36187060e+00,  2.00565391e+00],\n",
       "        [ 1.98103552e+00,  1.13308687e+01,  6.60619218e+00, ...,\n",
       "          1.04375295e+00,  1.80568668e+00, -1.86406413e+00],\n",
       "        ...,\n",
       "        [ 4.02886060e+00,  2.19997146e+00,  2.51755653e+00, ...,\n",
       "          7.91671395e-01, -3.61712632e+00, -1.59872189e+00],\n",
       "        [ 5.19218298e+00,  3.35388851e+00,  3.86721825e-01, ...,\n",
       "         -4.74469050e+00,  3.09532534e+00,  3.63795883e+00],\n",
       "        [-5.98205252e-01,  8.27069967e-01,  1.28487195e+00, ...,\n",
       "         -6.76826046e-01, -2.82855630e+00,  8.25835813e-01]],\n",
       "\n",
       "       [[ 7.42569680e+00,  7.52765476e+00,  2.43601560e+00, ...,\n",
       "         -8.54009354e-01,  2.32022297e+00,  9.42856712e-01],\n",
       "        [ 8.55595432e+00,  1.03835419e+01,  9.33128959e+00, ...,\n",
       "          2.25718898e+00, -1.27070071e+00,  8.19813977e-01],\n",
       "        [ 3.18911208e+00,  1.12797553e+01,  4.64846889e+00, ...,\n",
       "          3.07968850e+00, -3.99355149e-02, -1.07788856e+00],\n",
       "        ...,\n",
       "        [-1.03487286e+00,  7.74596314e+00,  6.29936915e+00, ...,\n",
       "          9.80968586e-01, -2.97969311e+00, -3.66389514e+00],\n",
       "        [ 4.83462091e+00,  4.03265533e+00,  5.05227435e+00, ...,\n",
       "          6.91086018e-01, -5.41049328e-01, -1.42277617e+00],\n",
       "        [ 2.62085909e+00, -2.61178852e-01,  2.48594270e+00, ...,\n",
       "         -2.42333283e+00, -1.17373943e+00,  3.33910778e+00]],\n",
       "\n",
       "       [[ 2.44012474e+00,  8.58621431e-01,  4.47097756e+00, ...,\n",
       "          4.60355305e+00, -5.19913719e+00,  7.13827054e-01],\n",
       "        [ 6.54283942e+00,  3.07519738e+00,  6.15924874e+00, ...,\n",
       "         -1.25202281e+00, -5.26743267e-01,  2.40274750e+00],\n",
       "        [ 5.98082030e+00,  4.96906782e+00,  5.84357677e+00, ...,\n",
       "         -1.75616838e+00, -1.75353141e+00, -1.41998756e+00],\n",
       "        ...,\n",
       "        [ 9.95304337e-01,  3.22750127e+00, -1.94194574e-01, ...,\n",
       "         -1.36184353e+00,  3.13831645e+00, -4.87295043e-01],\n",
       "        [ 6.65517796e+00,  1.09611854e+00, -3.32755993e+00, ...,\n",
       "         -1.41487814e+00, -4.78565981e-01, -2.00462077e+00],\n",
       "        [ 7.06968543e+00,  2.64047461e+00,  1.64235175e+00, ...,\n",
       "         -2.92635577e+00,  2.60217405e+00,  5.51382288e+00]]])"
      ]
     },
     "execution_count": 2,
     "metadata": {},
     "output_type": "execute_result"
    }
   ],
   "source": [
    "module.process_norm(dark_run=100,\n",
    "                    frames={'image': 'pumped',\n",
    "                            'dark': 'intradark1'},\n",
    "                    dark_run_frames={'image': 'pumped',\n",
    "                                     'dark': 'intradark1'},\n",
    "                    trains=range(100),\n",
    "                    xgm_threshold=(1e-5, np.inf),\n",
    "                    njobs=40,\n",
    "                    dirname='../processed_runs_xgm')"
   ]
  },
  {
   "cell_type": "code",
   "execution_count": 4,
   "metadata": {},
   "outputs": [
    {
     "data": {
      "text/plain": [
       "-10886112.0"
      ]
     },
     "execution_count": 4,
     "metadata": {},
     "output_type": "execute_result"
    }
   ],
   "source": [
    "e = module.sum_frame('image', trains=range(30))\n",
    "f = module.sum_frame('dark', trains=range(30))\n",
    "e.sum() - f.sum()"
   ]
  },
  {
   "cell_type": "code",
   "execution_count": null,
   "metadata": {},
   "outputs": [],
   "source": [
    "b = module.average_frame(frame_type='dark', trains=range(10))\n",
    "b.shape"
   ]
  },
  {
   "cell_type": "code",
   "execution_count": null,
   "metadata": {},
   "outputs": [],
   "source": [
    "c = module.process_std(trains=range(10), dirname='processed_runs_xgm')\n",
    "c.keys()"
   ]
  },
  {
   "cell_type": "code",
   "execution_count": 5,
   "metadata": {},
   "outputs": [
    {
     "ename": "OSError",
     "evalue": "Unable to open file (unable to open file: name = 'processed_runs_xgm/run_49/module_8_std.h5', errno = 2, error message = 'No such file or directory', flags = 0, o_flags = 0)",
     "output_type": "error",
     "traceback": [
      "\u001b[0;31m---------------------------------------------------------------------------\u001b[0m",
      "\u001b[0;31mOSError\u001b[0m                                   Traceback (most recent call last)",
      "\u001b[0;32m<ipython-input-5-5f1c2295f7d6>\u001b[0m in \u001b[0;36m<module>\u001b[0;34m\u001b[0m\n\u001b[0;32m----> 1\u001b[0;31m \u001b[0md\u001b[0m \u001b[0;34m=\u001b[0m \u001b[0mmodule\u001b[0m\u001b[0;34m.\u001b[0m\u001b[0mprocess_norm\u001b[0m\u001b[0;34m(\u001b[0m\u001b[0mdark_run\u001b[0m\u001b[0;34m=\u001b[0m\u001b[0;36m49\u001b[0m\u001b[0;34m,\u001b[0m \u001b[0mtrains\u001b[0m\u001b[0;34m=\u001b[0m\u001b[0mrange\u001b[0m\u001b[0;34m(\u001b[0m\u001b[0;36m10\u001b[0m\u001b[0;34m)\u001b[0m\u001b[0;34m,\u001b[0m \u001b[0mdirname\u001b[0m\u001b[0;34m=\u001b[0m\u001b[0;34m'processed_runs_xgm'\u001b[0m\u001b[0;34m)\u001b[0m\u001b[0;34m\u001b[0m\u001b[0;34m\u001b[0m\u001b[0m\n\u001b[0m\u001b[1;32m      2\u001b[0m \u001b[0md\u001b[0m\u001b[0;34m.\u001b[0m\u001b[0mshape\u001b[0m\u001b[0;34m\u001b[0m\u001b[0;34m\u001b[0m\u001b[0m\n",
      "\u001b[0;32m/gpfs/exfel/u/usr/SCS/202002/p002530/begm/scs-processing/processing.py\u001b[0m in \u001b[0;36mprocess_norm\u001b[0;34m(self, dark_run, frames, dark_run_frames, trains, xgm_threshold, njobs, dirname)\u001b[0m\n\u001b[1;32m    593\u001b[0m         filename = os.path.join(dirname, f'run_{dark_run}',\n\u001b[1;32m    594\u001b[0m                                 f'module_{self.module}_std.h5')\n\u001b[0;32m--> 595\u001b[0;31m         \u001b[0;32mwith\u001b[0m \u001b[0mh5py\u001b[0m\u001b[0;34m.\u001b[0m\u001b[0mFile\u001b[0m\u001b[0;34m(\u001b[0m\u001b[0mfilename\u001b[0m\u001b[0;34m,\u001b[0m \u001b[0;34m'r'\u001b[0m\u001b[0;34m)\u001b[0m \u001b[0;32mas\u001b[0m \u001b[0mf\u001b[0m\u001b[0;34m:\u001b[0m\u001b[0;34m\u001b[0m\u001b[0;34m\u001b[0m\u001b[0m\n\u001b[0m\u001b[1;32m    596\u001b[0m             dark_run_diff = (f[f'{dark_run_frames[\"image\"]}_average'][:] -\n\u001b[1;32m    597\u001b[0m                              f[f'{dark_run_frames[\"dark\"]}_average'][:])\n",
      "\u001b[0;32m/gpfs/exfel/sw/software/xfel_anaconda3/1.1/lib/python3.7/site-packages/h5py/_hl/files.py\u001b[0m in \u001b[0;36m__init__\u001b[0;34m(self, name, mode, driver, libver, userblock_size, swmr, rdcc_nslots, rdcc_nbytes, rdcc_w0, track_order, **kwds)\u001b[0m\n\u001b[1;32m    392\u001b[0m                 fid = make_fid(name, mode, userblock_size,\n\u001b[1;32m    393\u001b[0m                                \u001b[0mfapl\u001b[0m\u001b[0;34m,\u001b[0m \u001b[0mfcpl\u001b[0m\u001b[0;34m=\u001b[0m\u001b[0mmake_fcpl\u001b[0m\u001b[0;34m(\u001b[0m\u001b[0mtrack_order\u001b[0m\u001b[0;34m=\u001b[0m\u001b[0mtrack_order\u001b[0m\u001b[0;34m)\u001b[0m\u001b[0;34m,\u001b[0m\u001b[0;34m\u001b[0m\u001b[0;34m\u001b[0m\u001b[0m\n\u001b[0;32m--> 394\u001b[0;31m                                swmr=swmr)\n\u001b[0m\u001b[1;32m    395\u001b[0m \u001b[0;34m\u001b[0m\u001b[0m\n\u001b[1;32m    396\u001b[0m             \u001b[0;32mif\u001b[0m \u001b[0mswmr_support\u001b[0m\u001b[0;34m:\u001b[0m\u001b[0;34m\u001b[0m\u001b[0;34m\u001b[0m\u001b[0m\n",
      "\u001b[0;32m/gpfs/exfel/sw/software/xfel_anaconda3/1.1/lib/python3.7/site-packages/h5py/_hl/files.py\u001b[0m in \u001b[0;36mmake_fid\u001b[0;34m(name, mode, userblock_size, fapl, fcpl, swmr)\u001b[0m\n\u001b[1;32m    168\u001b[0m         \u001b[0;32mif\u001b[0m \u001b[0mswmr\u001b[0m \u001b[0;32mand\u001b[0m \u001b[0mswmr_support\u001b[0m\u001b[0;34m:\u001b[0m\u001b[0;34m\u001b[0m\u001b[0;34m\u001b[0m\u001b[0m\n\u001b[1;32m    169\u001b[0m             \u001b[0mflags\u001b[0m \u001b[0;34m|=\u001b[0m \u001b[0mh5f\u001b[0m\u001b[0;34m.\u001b[0m\u001b[0mACC_SWMR_READ\u001b[0m\u001b[0;34m\u001b[0m\u001b[0;34m\u001b[0m\u001b[0m\n\u001b[0;32m--> 170\u001b[0;31m         \u001b[0mfid\u001b[0m \u001b[0;34m=\u001b[0m \u001b[0mh5f\u001b[0m\u001b[0;34m.\u001b[0m\u001b[0mopen\u001b[0m\u001b[0;34m(\u001b[0m\u001b[0mname\u001b[0m\u001b[0;34m,\u001b[0m \u001b[0mflags\u001b[0m\u001b[0;34m,\u001b[0m \u001b[0mfapl\u001b[0m\u001b[0;34m=\u001b[0m\u001b[0mfapl\u001b[0m\u001b[0;34m)\u001b[0m\u001b[0;34m\u001b[0m\u001b[0;34m\u001b[0m\u001b[0m\n\u001b[0m\u001b[1;32m    171\u001b[0m     \u001b[0;32melif\u001b[0m \u001b[0mmode\u001b[0m \u001b[0;34m==\u001b[0m \u001b[0;34m'r+'\u001b[0m\u001b[0;34m:\u001b[0m\u001b[0;34m\u001b[0m\u001b[0;34m\u001b[0m\u001b[0m\n\u001b[1;32m    172\u001b[0m         \u001b[0mfid\u001b[0m \u001b[0;34m=\u001b[0m \u001b[0mh5f\u001b[0m\u001b[0;34m.\u001b[0m\u001b[0mopen\u001b[0m\u001b[0;34m(\u001b[0m\u001b[0mname\u001b[0m\u001b[0;34m,\u001b[0m \u001b[0mh5f\u001b[0m\u001b[0;34m.\u001b[0m\u001b[0mACC_RDWR\u001b[0m\u001b[0;34m,\u001b[0m \u001b[0mfapl\u001b[0m\u001b[0;34m=\u001b[0m\u001b[0mfapl\u001b[0m\u001b[0;34m)\u001b[0m\u001b[0;34m\u001b[0m\u001b[0;34m\u001b[0m\u001b[0m\n",
      "\u001b[0;32mh5py/_objects.pyx\u001b[0m in \u001b[0;36mh5py._objects.with_phil.wrapper\u001b[0;34m()\u001b[0m\n",
      "\u001b[0;32mh5py/_objects.pyx\u001b[0m in \u001b[0;36mh5py._objects.with_phil.wrapper\u001b[0;34m()\u001b[0m\n",
      "\u001b[0;32mh5py/h5f.pyx\u001b[0m in \u001b[0;36mh5py.h5f.open\u001b[0;34m()\u001b[0m\n",
      "\u001b[0;31mOSError\u001b[0m: Unable to open file (unable to open file: name = 'processed_runs_xgm/run_49/module_8_std.h5', errno = 2, error message = 'No such file or directory', flags = 0, o_flags = 0)"
     ]
    }
   ],
   "source": [
    "d = module.process_norm(dark_run=49, trains=range(10), dirname='processed_runs_xgm')\n",
    "d.shape"
   ]
  },
  {
   "cell_type": "code",
   "execution_count": null,
   "metadata": {},
   "outputs": [],
   "source": [
    "filename = f'processed_runs_xgm/run_{run}/module_{module_number}_std.h5'\n",
    "with h5py.File(filename, 'r') as f:\n",
    "    data1 = f['dark_average'][:]\n",
    "    data2 = f['image_average'][:] \n",
    "np.mean(data2 - data1, axis=0).min()"
   ]
  },
  {
   "cell_type": "code",
   "execution_count": null,
   "metadata": {},
   "outputs": [],
   "source": [
    "data.max()"
   ]
  },
  {
   "cell_type": "code",
   "execution_count": null,
   "metadata": {},
   "outputs": [],
   "source": [
    "import matplotlib.pyplot as plt\n",
    "\n",
    "plt.imshow(data.squeeze())"
   ]
  },
  {
   "cell_type": "code",
   "execution_count": null,
   "metadata": {},
   "outputs": [],
   "source": []
  }
 ],
 "metadata": {
  "kernelspec": {
   "display_name": "xfel",
   "language": "python",
   "name": "xfel"
  },
  "language_info": {
   "codemirror_mode": {
    "name": "ipython",
    "version": 3
   },
   "file_extension": ".py",
   "mimetype": "text/x-python",
   "name": "python",
   "nbconvert_exporter": "python",
   "pygments_lexer": "ipython3",
   "version": "3.7.3"
  }
 },
 "nbformat": 4,
 "nbformat_minor": 2
}
