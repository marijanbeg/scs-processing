{
 "cells": [
  {
   "cell_type": "code",
   "execution_count": 15,
   "metadata": {},
   "outputs": [],
   "source": [
    "import sys\n",
    "sys.path.append('..')\n",
    "\n",
    "import h5py\n",
    "import numpy as np\n",
    "import processing as pr\n",
    "\n",
    "proposal = 2530\n",
    "run = 98\n",
    "module_number = 0\n",
    "pattern = ['pumped', 'intradark1', 'unpumped', 'intradark2'] * 40\n",
    "\n",
    "module = pr.Module(proposal=proposal, run=run, module=module_number, pattern=pattern)"
   ]
  },
  {
   "cell_type": "code",
   "execution_count": 22,
   "metadata": {},
   "outputs": [
    {
     "data": {
      "text/plain": [
       "True"
      ]
     },
     "execution_count": 22,
     "metadata": {},
     "output_type": "execute_result"
    }
   ],
   "source": [
    "840044345 in module.xgm.data.coords['trainId']\n",
    "#module.xgm.data.sel(trainId=840044344)[0:5]\n",
    "#module.ntrains"
   ]
  },
  {
   "cell_type": "code",
   "execution_count": 17,
   "metadata": {},
   "outputs": [
    {
     "data": {
      "text/plain": [
       "array([[[ 1.00759770e+01,  5.77444212e+00,  5.08916462e-01, ...,\n",
       "         -2.01364851e+00, -5.95329217e+00,  4.29642199e+00],\n",
       "        [ 6.86219650e+00,  7.31409138e+00,  7.70176130e+00, ...,\n",
       "         -9.38180094e-02, -6.53772444e+00, -1.42553207e+00],\n",
       "        [ 8.00800793e+00,  1.10948386e+01,  5.46289743e+00, ...,\n",
       "          1.74131876e+00, -2.94183833e+00,  8.54696320e-01],\n",
       "        ...,\n",
       "        [ 4.34791771e-01,  7.98380242e+00,  1.72258102e+00, ...,\n",
       "          1.96921935e+00, -1.72931080e+00, -3.16014728e+00],\n",
       "        [ 7.61552101e+00, -1.86718008e+00,  4.28802535e+00, ...,\n",
       "         -2.81877716e+00,  4.90873556e+00, -5.81167708e+00],\n",
       "        [ 4.74865602e+00,  4.37553279e+00,  1.16509580e+00, ...,\n",
       "         -2.53671244e+00,  3.69579309e+00,  1.99406473e+00]],\n",
       "\n",
       "       [[ 7.69528419e+00,  5.21707004e+00,  1.02485937e+01, ...,\n",
       "          5.68750275e+00, -4.63813361e+00,  6.23676013e-03],\n",
       "        [ 4.57144223e+00, -9.03910189e-01,  4.78371192e+00, ...,\n",
       "         -7.77405371e-01,  3.06208967e+00, -2.67027264e+00],\n",
       "        [ 8.02851366e+00,  1.99894160e+01,  4.80774407e+00, ...,\n",
       "         -7.90411539e-01,  3.10930524e+00, -2.57975217e+00],\n",
       "        ...,\n",
       "        [-1.32966600e+00,  1.71310254e+00, -3.93946193e-01, ...,\n",
       "         -1.15670294e+00,  5.90501100e+00,  3.46566547e+00],\n",
       "        [ 2.56043107e+00,  7.94913309e+00, -6.03122252e-01, ...,\n",
       "         -2.36932719e+00,  3.83158637e+00, -2.73930949e+00],\n",
       "        [ 7.86222679e+00, -3.51668585e-01,  2.21388720e+00, ...,\n",
       "         -1.05592544e+00,  5.54305832e+00, -1.63508158e+00]],\n",
       "\n",
       "       [[ 4.38110970e+00,  9.19967863e+00,  6.46770496e+00, ...,\n",
       "         -9.39977831e-02,  7.43456429e-03, -2.24799335e+00],\n",
       "        [ 1.11801628e+01,  6.40253958e+00,  7.66358300e+00, ...,\n",
       "         -1.17487789e+00,  2.77310094e+00, -3.32629915e-01],\n",
       "        [ 8.11398151e+00,  5.25772381e+00,  1.42228516e+01, ...,\n",
       "          5.66344975e-02,  1.20764366e+00, -1.35522946e+00],\n",
       "        ...,\n",
       "        [ 4.97995983e+00,  3.83878315e+00,  1.87656495e+00, ...,\n",
       "          1.82664021e+00,  1.08077811e+00,  2.87438742e+00],\n",
       "        [ 2.85870263e+00,  2.02017981e-01, -2.06220777e+00, ...,\n",
       "         -4.66995351e+00,  4.73632799e+00, -3.11879063e-01],\n",
       "        [-4.33510390e-02, -6.54270357e-01, -1.91332278e-02, ...,\n",
       "          3.51534745e+00, -1.05857846e+00,  1.12001293e+00]],\n",
       "\n",
       "       ...,\n",
       "\n",
       "       [[ 1.10833377e+00,  9.44666336e+00,  6.57879118e+00, ...,\n",
       "          1.24815789e+00, -5.51544450e-01, -3.48739573e+00],\n",
       "        [ 4.67649849e+00,  6.05244037e+00,  6.73612711e+00, ...,\n",
       "         -7.10612915e-02, -2.90098921e-01,  3.09658967e-01],\n",
       "        [ 5.07078408e+00,  3.95189697e+00,  9.28205303e+00, ...,\n",
       "         -2.88240313e-01,  2.51764296e-01,  1.09401879e+00],\n",
       "        ...,\n",
       "        [ 1.76662093e+00,  3.85803982e-01,  2.13331691e+00, ...,\n",
       "          1.15490447e-02, -6.65894046e-01, -7.09622852e-01],\n",
       "        [ 2.74995176e+00,  4.04401114e+00, -4.96074391e-01, ...,\n",
       "         -9.22320056e-01, -4.40256241e+00,  3.77444908e+00],\n",
       "        [ 8.23891315e-01,  3.32317454e+00,  6.58895675e-01, ...,\n",
       "         -1.82955748e+00, -2.41804210e+00, -5.43345588e-01]],\n",
       "\n",
       "       [[ 3.19940130e+00,  2.15190037e+00,  4.67943891e+00, ...,\n",
       "          3.63280716e+00,  8.02436249e-01, -2.93299233e+00],\n",
       "        [ 8.49718273e+00,  4.06848149e+00,  7.18800123e+00, ...,\n",
       "         -1.89496004e+00,  4.01878625e+00,  5.15804415e-01],\n",
       "        [ 7.27687727e-01,  8.49136176e+00,  6.01245227e+00, ...,\n",
       "          3.55890045e+00, -3.55423223e+00,  1.98860854e+00],\n",
       "        ...,\n",
       "        [ 2.53405418e+00, -8.85618227e-01, -4.74768506e-03, ...,\n",
       "         -1.55597134e+00,  3.52530965e+00,  3.11848581e+00],\n",
       "        [ 3.89465493e+00,  3.29489140e+00,  2.57964283e+00, ...,\n",
       "          3.55467684e+00,  4.00656075e+00, -1.92199377e-01],\n",
       "        [ 2.30404335e+00,  3.34337139e+00,  2.06946735e+00, ...,\n",
       "         -1.48460408e+00, -6.79359722e-02, -6.49919394e-01]],\n",
       "\n",
       "       [[ 4.74786307e+00,  4.64689707e+00,  5.46483291e+00, ...,\n",
       "          5.08525759e-02,  7.20958989e-01, -1.15668997e+00],\n",
       "        [ 7.12868851e+00,  5.23078874e+00,  7.89024318e+00, ...,\n",
       "          9.06120307e-01,  2.69372783e+00, -8.79805994e-02],\n",
       "        [ 6.92992517e+00,  7.10714592e+00,  8.24249118e+00, ...,\n",
       "          1.89350038e+00,  1.37521143e+00, -1.24054676e+00],\n",
       "        ...,\n",
       "        [ 3.75687655e+00,  8.19739560e-01,  6.53652203e-01, ...,\n",
       "          4.03078669e-01, -1.00047753e+00,  1.44072877e+00],\n",
       "        [ 2.18927507e+00,  4.85915741e+00,  1.49546581e+00, ...,\n",
       "          1.41116172e+00,  1.87904532e-01,  2.91901512e+00],\n",
       "        [ 1.57009007e+00, -1.32811045e+00,  1.21176525e+00, ...,\n",
       "          9.70224190e-01, -1.59621595e+00,  2.38704335e+00]]])"
      ]
     },
     "execution_count": 17,
     "metadata": {},
     "output_type": "execute_result"
    }
   ],
   "source": [
    "module.process_norm(dark_run=100,\n",
    "                    frames={'image': 'pumped',\n",
    "                            'dark': 'intradark1'},\n",
    "                    dark_run_frames={'image': 'pumped',\n",
    "                                     'dark': 'intradark1'},\n",
    "                    trains=range(100),\n",
    "                    xgm_threshold=(1e-5, np.inf),\n",
    "                    njobs=40,\n",
    "                    dirname='../processed_runs_xgm')"
   ]
  },
  {
   "cell_type": "code",
   "execution_count": 4,
   "metadata": {},
   "outputs": [
    {
     "data": {
      "text/plain": [
       "-10886112.0"
      ]
     },
     "execution_count": 4,
     "metadata": {},
     "output_type": "execute_result"
    }
   ],
   "source": [
    "e = module.sum_frame('image', trains=range(30))\n",
    "f = module.sum_frame('dark', trains=range(30))\n",
    "e.sum() - f.sum()"
   ]
  },
  {
   "cell_type": "code",
   "execution_count": null,
   "metadata": {},
   "outputs": [],
   "source": [
    "b = module.average_frame(frame_type='dark', trains=range(10))\n",
    "b.shape"
   ]
  },
  {
   "cell_type": "code",
   "execution_count": null,
   "metadata": {},
   "outputs": [],
   "source": [
    "c = module.process_std(trains=range(10), dirname='processed_runs_xgm')\n",
    "c.keys()"
   ]
  },
  {
   "cell_type": "code",
   "execution_count": 5,
   "metadata": {},
   "outputs": [
    {
     "ename": "OSError",
     "evalue": "Unable to open file (unable to open file: name = 'processed_runs_xgm/run_49/module_8_std.h5', errno = 2, error message = 'No such file or directory', flags = 0, o_flags = 0)",
     "output_type": "error",
     "traceback": [
      "\u001b[0;31m---------------------------------------------------------------------------\u001b[0m",
      "\u001b[0;31mOSError\u001b[0m                                   Traceback (most recent call last)",
      "\u001b[0;32m<ipython-input-5-5f1c2295f7d6>\u001b[0m in \u001b[0;36m<module>\u001b[0;34m\u001b[0m\n\u001b[0;32m----> 1\u001b[0;31m \u001b[0md\u001b[0m \u001b[0;34m=\u001b[0m \u001b[0mmodule\u001b[0m\u001b[0;34m.\u001b[0m\u001b[0mprocess_norm\u001b[0m\u001b[0;34m(\u001b[0m\u001b[0mdark_run\u001b[0m\u001b[0;34m=\u001b[0m\u001b[0;36m49\u001b[0m\u001b[0;34m,\u001b[0m \u001b[0mtrains\u001b[0m\u001b[0;34m=\u001b[0m\u001b[0mrange\u001b[0m\u001b[0;34m(\u001b[0m\u001b[0;36m10\u001b[0m\u001b[0;34m)\u001b[0m\u001b[0;34m,\u001b[0m \u001b[0mdirname\u001b[0m\u001b[0;34m=\u001b[0m\u001b[0;34m'processed_runs_xgm'\u001b[0m\u001b[0;34m)\u001b[0m\u001b[0;34m\u001b[0m\u001b[0;34m\u001b[0m\u001b[0m\n\u001b[0m\u001b[1;32m      2\u001b[0m \u001b[0md\u001b[0m\u001b[0;34m.\u001b[0m\u001b[0mshape\u001b[0m\u001b[0;34m\u001b[0m\u001b[0;34m\u001b[0m\u001b[0m\n",
      "\u001b[0;32m/gpfs/exfel/u/usr/SCS/202002/p002530/begm/scs-processing/processing.py\u001b[0m in \u001b[0;36mprocess_norm\u001b[0;34m(self, dark_run, frames, dark_run_frames, trains, xgm_threshold, njobs, dirname)\u001b[0m\n\u001b[1;32m    593\u001b[0m         filename = os.path.join(dirname, f'run_{dark_run}',\n\u001b[1;32m    594\u001b[0m                                 f'module_{self.module}_std.h5')\n\u001b[0;32m--> 595\u001b[0;31m         \u001b[0;32mwith\u001b[0m \u001b[0mh5py\u001b[0m\u001b[0;34m.\u001b[0m\u001b[0mFile\u001b[0m\u001b[0;34m(\u001b[0m\u001b[0mfilename\u001b[0m\u001b[0;34m,\u001b[0m \u001b[0;34m'r'\u001b[0m\u001b[0;34m)\u001b[0m \u001b[0;32mas\u001b[0m \u001b[0mf\u001b[0m\u001b[0;34m:\u001b[0m\u001b[0;34m\u001b[0m\u001b[0;34m\u001b[0m\u001b[0m\n\u001b[0m\u001b[1;32m    596\u001b[0m             dark_run_diff = (f[f'{dark_run_frames[\"image\"]}_average'][:] -\n\u001b[1;32m    597\u001b[0m                              f[f'{dark_run_frames[\"dark\"]}_average'][:])\n",
      "\u001b[0;32m/gpfs/exfel/sw/software/xfel_anaconda3/1.1/lib/python3.7/site-packages/h5py/_hl/files.py\u001b[0m in \u001b[0;36m__init__\u001b[0;34m(self, name, mode, driver, libver, userblock_size, swmr, rdcc_nslots, rdcc_nbytes, rdcc_w0, track_order, **kwds)\u001b[0m\n\u001b[1;32m    392\u001b[0m                 fid = make_fid(name, mode, userblock_size,\n\u001b[1;32m    393\u001b[0m                                \u001b[0mfapl\u001b[0m\u001b[0;34m,\u001b[0m \u001b[0mfcpl\u001b[0m\u001b[0;34m=\u001b[0m\u001b[0mmake_fcpl\u001b[0m\u001b[0;34m(\u001b[0m\u001b[0mtrack_order\u001b[0m\u001b[0;34m=\u001b[0m\u001b[0mtrack_order\u001b[0m\u001b[0;34m)\u001b[0m\u001b[0;34m,\u001b[0m\u001b[0;34m\u001b[0m\u001b[0;34m\u001b[0m\u001b[0m\n\u001b[0;32m--> 394\u001b[0;31m                                swmr=swmr)\n\u001b[0m\u001b[1;32m    395\u001b[0m \u001b[0;34m\u001b[0m\u001b[0m\n\u001b[1;32m    396\u001b[0m             \u001b[0;32mif\u001b[0m \u001b[0mswmr_support\u001b[0m\u001b[0;34m:\u001b[0m\u001b[0;34m\u001b[0m\u001b[0;34m\u001b[0m\u001b[0m\n",
      "\u001b[0;32m/gpfs/exfel/sw/software/xfel_anaconda3/1.1/lib/python3.7/site-packages/h5py/_hl/files.py\u001b[0m in \u001b[0;36mmake_fid\u001b[0;34m(name, mode, userblock_size, fapl, fcpl, swmr)\u001b[0m\n\u001b[1;32m    168\u001b[0m         \u001b[0;32mif\u001b[0m \u001b[0mswmr\u001b[0m \u001b[0;32mand\u001b[0m \u001b[0mswmr_support\u001b[0m\u001b[0;34m:\u001b[0m\u001b[0;34m\u001b[0m\u001b[0;34m\u001b[0m\u001b[0m\n\u001b[1;32m    169\u001b[0m             \u001b[0mflags\u001b[0m \u001b[0;34m|=\u001b[0m \u001b[0mh5f\u001b[0m\u001b[0;34m.\u001b[0m\u001b[0mACC_SWMR_READ\u001b[0m\u001b[0;34m\u001b[0m\u001b[0;34m\u001b[0m\u001b[0m\n\u001b[0;32m--> 170\u001b[0;31m         \u001b[0mfid\u001b[0m \u001b[0;34m=\u001b[0m \u001b[0mh5f\u001b[0m\u001b[0;34m.\u001b[0m\u001b[0mopen\u001b[0m\u001b[0;34m(\u001b[0m\u001b[0mname\u001b[0m\u001b[0;34m,\u001b[0m \u001b[0mflags\u001b[0m\u001b[0;34m,\u001b[0m \u001b[0mfapl\u001b[0m\u001b[0;34m=\u001b[0m\u001b[0mfapl\u001b[0m\u001b[0;34m)\u001b[0m\u001b[0;34m\u001b[0m\u001b[0;34m\u001b[0m\u001b[0m\n\u001b[0m\u001b[1;32m    171\u001b[0m     \u001b[0;32melif\u001b[0m \u001b[0mmode\u001b[0m \u001b[0;34m==\u001b[0m \u001b[0;34m'r+'\u001b[0m\u001b[0;34m:\u001b[0m\u001b[0;34m\u001b[0m\u001b[0;34m\u001b[0m\u001b[0m\n\u001b[1;32m    172\u001b[0m         \u001b[0mfid\u001b[0m \u001b[0;34m=\u001b[0m \u001b[0mh5f\u001b[0m\u001b[0;34m.\u001b[0m\u001b[0mopen\u001b[0m\u001b[0;34m(\u001b[0m\u001b[0mname\u001b[0m\u001b[0;34m,\u001b[0m \u001b[0mh5f\u001b[0m\u001b[0;34m.\u001b[0m\u001b[0mACC_RDWR\u001b[0m\u001b[0;34m,\u001b[0m \u001b[0mfapl\u001b[0m\u001b[0;34m=\u001b[0m\u001b[0mfapl\u001b[0m\u001b[0;34m)\u001b[0m\u001b[0;34m\u001b[0m\u001b[0;34m\u001b[0m\u001b[0m\n",
      "\u001b[0;32mh5py/_objects.pyx\u001b[0m in \u001b[0;36mh5py._objects.with_phil.wrapper\u001b[0;34m()\u001b[0m\n",
      "\u001b[0;32mh5py/_objects.pyx\u001b[0m in \u001b[0;36mh5py._objects.with_phil.wrapper\u001b[0;34m()\u001b[0m\n",
      "\u001b[0;32mh5py/h5f.pyx\u001b[0m in \u001b[0;36mh5py.h5f.open\u001b[0;34m()\u001b[0m\n",
      "\u001b[0;31mOSError\u001b[0m: Unable to open file (unable to open file: name = 'processed_runs_xgm/run_49/module_8_std.h5', errno = 2, error message = 'No such file or directory', flags = 0, o_flags = 0)"
     ]
    }
   ],
   "source": [
    "d = module.process_norm(dark_run=49, trains=range(10), dirname='processed_runs_xgm')\n",
    "d.shape"
   ]
  },
  {
   "cell_type": "code",
   "execution_count": null,
   "metadata": {},
   "outputs": [],
   "source": [
    "filename = f'processed_runs_xgm/run_{run}/module_{module_number}_std.h5'\n",
    "with h5py.File(filename, 'r') as f:\n",
    "    data1 = f['dark_average'][:]\n",
    "    data2 = f['image_average'][:] \n",
    "np.mean(data2 - data1, axis=0).min()"
   ]
  },
  {
   "cell_type": "code",
   "execution_count": null,
   "metadata": {},
   "outputs": [],
   "source": [
    "data.max()"
   ]
  },
  {
   "cell_type": "code",
   "execution_count": null,
   "metadata": {},
   "outputs": [],
   "source": [
    "import matplotlib.pyplot as plt\n",
    "\n",
    "plt.imshow(data.squeeze())"
   ]
  },
  {
   "cell_type": "code",
   "execution_count": null,
   "metadata": {},
   "outputs": [],
   "source": []
  }
 ],
 "metadata": {
  "kernelspec": {
   "display_name": "xfel",
   "language": "python",
   "name": "xfel"
  },
  "language_info": {
   "codemirror_mode": {
    "name": "ipython",
    "version": 3
   },
   "file_extension": ".py",
   "mimetype": "text/x-python",
   "name": "python",
   "nbconvert_exporter": "python",
   "pygments_lexer": "ipython3",
   "version": "3.7.3"
  }
 },
 "nbformat": 4,
 "nbformat_minor": 2
}
