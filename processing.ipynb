{
 "cells": [
  {
   "cell_type": "markdown",
   "metadata": {},
   "source": [
    "# Processing"
   ]
  },
  {
   "cell_type": "code",
   "execution_count": 5,
   "metadata": {},
   "outputs": [],
   "source": [
    "import processing as pr"
   ]
  },
  {
   "cell_type": "code",
   "execution_count": 6,
   "metadata": {},
   "outputs": [],
   "source": [
    "import numpy as np"
   ]
  },
  {
   "cell_type": "markdown",
   "metadata": {},
   "source": [
    "## Dark frame processing"
   ]
  },
  {
   "cell_type": "code",
   "execution_count": 7,
   "metadata": {},
   "outputs": [],
   "source": [
    "proposal = 2530\n",
    "run = 49\n",
    "pattern = ['image', 'dark'] * 99 + ['endimage']\n",
    "dirname = 'processed_runs_xgm'"
   ]
  },
  {
   "cell_type": "code",
   "execution_count": 8,
   "metadata": {},
   "outputs": [],
   "source": [
    "pr.reduction_std(proposal=proposal, run=run, pattern=pattern, dirname=dirname,\n",
    "                 frame_types=None, trains=None, njobs=40)"
   ]
  },
  {
   "cell_type": "markdown",
   "metadata": {},
   "source": [
    "## Standard processing"
   ]
  },
  {
   "cell_type": "code",
   "execution_count": 7,
   "metadata": {},
   "outputs": [],
   "source": [
    "proposal = 2530\n",
    "run = 50\n",
    "pattern = ['image', 'dark'] * 99 + ['endimage']\n",
    "dirname = 'processed_runs_xgm'"
   ]
  },
  {
   "cell_type": "code",
   "execution_count": 8,
   "metadata": {},
   "outputs": [],
   "source": [
    "pr.reduction_std(proposal=proposal, run=run, pattern=pattern, dirname=dirname,\n",
    "                 frame_types=None, trains=None, njobs=40)"
   ]
  },
  {
   "cell_type": "markdown",
   "metadata": {},
   "source": [
    "## Normalised processing"
   ]
  },
  {
   "cell_type": "code",
   "execution_count": 3,
   "metadata": {},
   "outputs": [],
   "source": [
    "proposal = 2530\n",
    "run = 50\n",
    "pattern = ['image', 'dark'] * 99 + ['endimage']\n",
    "dark_run = 49\n",
    "xgm_threshold = (1e-5, np.inf)\n",
    "dirname = 'processed_runs_xgm'"
   ]
  },
  {
   "cell_type": "code",
   "execution_count": 4,
   "metadata": {},
   "outputs": [],
   "source": [
    "pr.reduction_norm(proposal=proposal, run=run, pattern=pattern, dirname=dirname,\n",
    "                  dark_run=dark_run, xgm_threshold=xgm_threshold, njobs=40, trains=None,\n",
    "                  frames={'image': 'image', 'dark': 'dark'},\n",
    "                  dark_run_frames={'image': 'image', 'dark': 'dark'})"
   ]
  },
  {
   "cell_type": "code",
   "execution_count": null,
   "metadata": {},
   "outputs": [],
   "source": []
  }
 ],
 "metadata": {
  "kernelspec": {
   "display_name": "xfel",
   "language": "python",
   "name": "xfel"
  },
  "language_info": {
   "codemirror_mode": {
    "name": "ipython",
    "version": 3
   },
   "file_extension": ".py",
   "mimetype": "text/x-python",
   "name": "python",
   "nbconvert_exporter": "python",
   "pygments_lexer": "ipython3",
   "version": "3.7.3"
  }
 },
 "nbformat": 4,
 "nbformat_minor": 4
}
