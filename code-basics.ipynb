{
 "cells": [
  {
   "cell_type": "markdown",
   "metadata": {},
   "source": [
    "# Basics\n",
    "\n",
    "## How to get the code?\n",
    "\n",
    "The code can be found in https://github.com/marijanbeg/scs-processing repository. To get it you can either:\n",
    "\n",
    "- Navigate to your user directory and then run\n",
    "```\n",
    "git clone https://github.com/marijanbeg/scs-processing.git\n",
    "```\n",
    "\n",
    "OR\n",
    "\n",
    "- Copy `scs-processing` directory from `usr/Shared` to your user directory.\n",
    "\n",
    "After that, you can navigate to `scs-processing` and run everything from there.\n",
    "\n",
    "In `scs-processing` is `euxfel_scs_tools` directory where all the code lives. Code is not packaged because it might be merged to SCS_ToolBox. Because of that, when you import:\n",
    "\n",
    "```\n",
    "import euxfel_scs_tools as scs\n",
    "```\n",
    "\n",
    "this directory must be on the same path as the notebook (python script) you are running.\n",
    "\n",
    "## Raw data processing\n",
    "\n",
    "All the processing of raw data is done by submitting jobs to queue. We made convenience Python functions, so that the processing can be done from the notebook.\n",
    "\n",
    "IMPORTANT: The job of convenience functions is to build all necessary Python and bash script automatically and submit jobs to the queue. Therefore, notebook is going to show that cell has been executed and this might look like you can continue going through the notebook. However, it takes some time (from our experience about 2-4 minutes) to complete all submitted jobs. So, if in the next cell you get an error that that the files you need do not exist, it is probably because the jobs are still running.\n",
    "\n",
    "To check how your jobs are doing in the queue, you can run:\n",
    "\n",
    "```\n",
    "qstat -u your_username\n",
    "```\n",
    "\n",
    "in terminal. This is going to list all the (recent) jobs you submitted and at the end of each row you are going to have letter R (running), C (completed), or Q (queued - has not started yet).\n",
    "\n",
    "The output of your jobs can be found in `slurm_log` directory.\n",
    "\n",
    "## Tutorials\n",
    "\n",
    "In `scs-processing` directory you cloned or copied from `Shared` is `tutorials` directory where we documented all features that have been requested from us. If something is not clear or could be explained better, please let us know."
   ]
  }
 ],
 "metadata": {
  "kernelspec": {
   "display_name": "xfel",
   "language": "python",
   "name": "xfel"
  },
  "language_info": {
   "codemirror_mode": {
    "name": "ipython",
    "version": 3
   },
   "file_extension": ".py",
   "mimetype": "text/x-python",
   "name": "python",
   "nbconvert_exporter": "python",
   "pygments_lexer": "ipython3",
   "version": "3.7.3"
  }
 },
 "nbformat": 4,
 "nbformat_minor": 2
}
